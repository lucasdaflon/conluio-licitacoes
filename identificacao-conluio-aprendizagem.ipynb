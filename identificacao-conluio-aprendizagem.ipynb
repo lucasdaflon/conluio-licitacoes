{
 "cells": [
  {
   "cell_type": "markdown",
   "id": "3bbb5670",
   "metadata": {},
   "source": [
    "# Aprendizado de conluio em licitações públicas\n",
    "## Etapas do pré-processamento"
   ]
  },
  {
   "cell_type": "code",
   "execution_count": 1,
   "id": "435c278b",
   "metadata": {
    "scrolled": true
   },
   "outputs": [],
   "source": [
    "#!pip install pyodbc\n",
    "#!pip install mlxtend\n",
    "#!pip install xlrd\n",
    "#!pip install lime\n",
    "#!pip install shap\n",
    "#!pip install imblearn\n",
    "#!pip install seaborn\n",
    "#!pip install psycopg2"
   ]
  },
  {
   "cell_type": "code",
   "execution_count": 2,
   "id": "fff67963",
   "metadata": {
    "scrolled": true
   },
   "outputs": [],
   "source": [
    "import pandas as pd\n",
    "import gc"
   ]
  },
  {
   "cell_type": "markdown",
   "id": "eb74930c",
   "metadata": {},
   "source": [
    "## Carregar dados de licitações do governo Federal\n",
    "\n",
    "#### Fonte: https://portaldatransparencia.gov.br/download-de-dados/licitacoes"
   ]
  },
  {
   "cell_type": "markdown",
   "id": "de6bb121",
   "metadata": {},
   "source": [
    "### Carregar dados - Licitações"
   ]
  },
  {
   "cell_type": "code",
   "execution_count": 3,
   "id": "6d2223a2",
   "metadata": {},
   "outputs": [],
   "source": [
    "import os"
   ]
  },
  {
   "cell_type": "code",
   "execution_count": null,
   "id": "a11a9d7f",
   "metadata": {},
   "outputs": [],
   "source": [
    "anos = ['2013', '2014', '2015', '2016', '2017', '2018']"
   ]
  },
  {
   "cell_type": "code",
   "execution_count": null,
   "id": "edff8663",
   "metadata": {},
   "outputs": [],
   "source": [
    "def get_files_dir (pasta, ano):\n",
    "    df = pd.DataFrame()\n",
    "    for a in os.listdir(pasta):\n",
    "        arquivo = pasta+'\\\\'+a\n",
    "        if os.path.isfile(arquivo):     \n",
    "            df_t = pd.read_csv(arquivo, sep=';', encoding='utf-8', low_memory=False)\n",
    "            df = pd.concat([df, df_t], ignore_index=True)\n",
    "        elif a == ano:\n",
    "            df_t = get_files_dir (arquivo, ano)\n",
    "            df = pd.concat([df, df_t], ignore_index=True)\n",
    "    return df "
   ]
  },
  {
   "cell_type": "code",
   "execution_count": null,
   "id": "40b574ec",
   "metadata": {},
   "outputs": [],
   "source": [
    "def get_files (dir, ano):   \n",
    "    df = get_files_dir (dir, ano)\n",
    "    df = df.drop_duplicates(ignore_index=True)\n",
    "    #Só faz sentido avaliar quem tem concorrente\n",
    "    df = df.loc[(df['Modalidade Compra'] != \"Inexigibilidade de Licitação\") & (df['Modalidade Compra'] != \"Dispensa de Licitação\")]\n",
    "    return df"
   ]
  },
  {
   "cell_type": "code",
   "execution_count": null,
   "id": "8531448f",
   "metadata": {},
   "outputs": [],
   "source": [
    "#Carregar a partir dos arquivos\n",
    "dir_licit = 'C:\\\\Users\\\\lucas\\\\Downloads\\\\Cefet-RJ\\\\Licitacao'\n",
    "dir_item = 'C:\\\\Users\\\\lucas\\\\Downloads\\\\Cefet-RJ\\\\ItemLicitacao'\n",
    "dir_partic = 'C:\\\\Users\\\\lucas\\\\Downloads\\\\Cefet-RJ\\\\ParticipantesLicitacao'\n",
    "df_u = pd.DataFrame()\n",
    "for a in anos:\n",
    "    print ('Ano: '+a)\n",
    "    df_item = get_files (dir_item, a)\n",
    "    print ('Total Item: ', df_item.shape)\n",
    "    df_partic = get_files (dir_partic, a)\n",
    "    print ('Total Participantes: ',df_partic.shape)\n",
    "    df_t = df_partic.merge(df_item, left_index=False, right_index=False, how=\"inner\")\n",
    "    df_licit = get_files (dir_licit, a)\n",
    "    print ('Total Licitações: ',df_licit.shape)\n",
    "    df_t = df_t.merge(df_licit, left_index=False, right_index=False, how=\"inner\")\n",
    "    print ('Total: ',df_t.shape)\n",
    "    del(df_item, df_partic, df_licit)\n",
    "    n = gc.collect()\n",
    "    #Antecipa exclusão de colunas código (redundantes) para evitar problemas de memória\n",
    "    cols = [x for x in df_t.columns if 'Código' in x]\n",
    "    df_t.drop(columns=cols, inplace=True)\n",
    "    df_u = pd.concat([df_u, df_t], ignore_index=True)\n",
    "    del(df_t)\n",
    "print ('Total')\n",
    "print (df_u.shape)"
   ]
  },
  {
   "cell_type": "code",
   "execution_count": null,
   "id": "02f65413",
   "metadata": {},
   "outputs": [],
   "source": [
    "df_u.head(50)"
   ]
  },
  {
   "cell_type": "code",
   "execution_count": null,
   "id": "029fab05",
   "metadata": {},
   "outputs": [],
   "source": [
    "n = gc.collect()\n",
    "print(\"Número de objetos coletados pela função GC:\", n)\n",
    "print(\"Objetos restantes:\", gc.garbage)"
   ]
  },
  {
   "cell_type": "markdown",
   "id": "8129c66a",
   "metadata": {},
   "source": [
    "### Carregar dados - Conluios"
   ]
  },
  {
   "cell_type": "code",
   "execution_count": null,
   "id": "24851c2f",
   "metadata": {},
   "outputs": [],
   "source": [
    "df_cc = pd.read_excel('G:\\\\Meu Drive\\\\Cefet-rj\\\\Projeto de pesquisa\\\\mapeamento-conluios.xlsx', index_col=None, sheet_name='conluios-participantes') "
   ]
  },
  {
   "cell_type": "code",
   "execution_count": null,
   "id": "e70451fb",
   "metadata": {},
   "outputs": [],
   "source": [
    "df_cc.head()"
   ]
  },
  {
   "cell_type": "code",
   "execution_count": null,
   "id": "6014ec5c",
   "metadata": {},
   "outputs": [],
   "source": [
    "#Padroniza nomes colunas\n",
    "df_cc.columns = df_cc.columns.str.upper().str.replace(' ', '_')\n",
    "df_cc.columns = df_cc.columns.str.normalize('NFKD').str.encode('ascii', errors='ignore').str.decode('utf-8')"
   ]
  },
  {
   "cell_type": "code",
   "execution_count": null,
   "id": "5aa06b64",
   "metadata": {},
   "outputs": [],
   "source": [
    "#Padroniza valores\n",
    "df_cc = df_cc.apply(lambda x: x.astype(str).str.normalize('NFKD').str.encode('ascii', errors='ignore').str.decode('utf-8'))"
   ]
  },
  {
   "cell_type": "code",
   "execution_count": null,
   "id": "a3ea0ef5",
   "metadata": {},
   "outputs": [],
   "source": [
    "df_cc = df_cc.dropna()"
   ]
  },
  {
   "cell_type": "markdown",
   "id": "d4e79e32",
   "metadata": {},
   "source": [
    "## Análise exploratória dos dados e Pré-processamento"
   ]
  },
  {
   "cell_type": "code",
   "execution_count": 4,
   "id": "87b53081",
   "metadata": {},
   "outputs": [],
   "source": [
    "from sklearn.preprocessing import LabelEncoder\n",
    "from sklearn.preprocessing import MinMaxScaler\n",
    "def escalar_df(df_t):\n",
    "    df = df_t.copy()\n",
    "    objList = df.select_dtypes(include = ['object', 'category']).columns\n",
    "    labelencoder = LabelEncoder()\n",
    "    for feat in objList:\n",
    "        df[feat] = labelencoder.fit_transform(df[feat].astype(str))\n",
    "    scaler = MinMaxScaler()\n",
    "    scaler.fit(df)\n",
    "    scaled = scaler.fit_transform(df)\n",
    "    scaled_df = pd.DataFrame(scaled, columns=df.columns)\n",
    "    return scaled_df"
   ]
  },
  {
   "cell_type": "markdown",
   "id": "68d0bdc6",
   "metadata": {},
   "source": [
    "### Informações gerais dos atributos"
   ]
  },
  {
   "cell_type": "code",
   "execution_count": null,
   "id": "dd3d28cc",
   "metadata": {
    "scrolled": false
   },
   "outputs": [],
   "source": [
    "#Avalia atributos com muitos valores únicos\n",
    "df = df_u.applymap(str)\n",
    "df.describe(include=[object])"
   ]
  },
  {
   "cell_type": "code",
   "execution_count": null,
   "id": "d8fae95a",
   "metadata": {
    "scrolled": true
   },
   "outputs": [],
   "source": [
    "#Avalia atributos com muitos valores nulos\n",
    "print(df_u.isnull().sum())"
   ]
  },
  {
   "cell_type": "code",
   "execution_count": null,
   "id": "8a619821",
   "metadata": {
    "scrolled": true
   },
   "outputs": [],
   "source": [
    "#Avalia atributos com baixa variância (contribuem pouco para o aprendizado)\n",
    "df_u_scaled = escalar_df(df_u)\n",
    "print(df_u_scaled.var())"
   ]
  },
  {
   "cell_type": "code",
   "execution_count": null,
   "id": "ca298427",
   "metadata": {
    "scrolled": true
   },
   "outputs": [],
   "source": [
    "#Avalia tipo dos atributos\n",
    "print(df_u.dtypes)"
   ]
  },
  {
   "cell_type": "markdown",
   "id": "986949bf",
   "metadata": {},
   "source": [
    "### Seleção de dados"
   ]
  },
  {
   "cell_type": "code",
   "execution_count": null,
   "id": "53162464",
   "metadata": {},
   "outputs": [],
   "source": [
    "#Padroniza nomes colunas\n",
    "df_u.columns = df_u.columns.str.upper().str.replace(' ', '_')\n",
    "df_u.columns = df_u.columns.str.normalize('NFKD').str.encode('ascii', errors='ignore').str.decode('utf-8')"
   ]
  },
  {
   "cell_type": "code",
   "execution_count": null,
   "id": "91d6564d",
   "metadata": {},
   "outputs": [],
   "source": [
    "df_u['QTD_PARTICIPANTES_ITEM'] = df_u.groupby(['NUMERO_LICITACAO', 'NOME_UG', 'DESCRICAO_ITEM_COMPRA'])['NOME_PARTICIPANTE'].transform('nunique')"
   ]
  },
  {
   "cell_type": "code",
   "execution_count": null,
   "id": "7dd8a24a",
   "metadata": {},
   "outputs": [],
   "source": [
    "#Remove casos de licitações com apenas um participante\n",
    "df_u = df_u.loc[df_u['QTD_PARTICIPANTES_ITEM'] > 1]"
   ]
  },
  {
   "cell_type": "code",
   "execution_count": null,
   "id": "b8c9fae1",
   "metadata": {},
   "outputs": [],
   "source": [
    "n = gc.collect()\n",
    "print(\"Número de objetos coletados pela função GC:\", n)\n",
    "print(\"Objetos restantes:\", gc.garbage)"
   ]
  },
  {
   "cell_type": "code",
   "execution_count": null,
   "id": "6cf568a3",
   "metadata": {},
   "outputs": [],
   "source": [
    "#Remove as linhas que o participante é o vencedor\n",
    "df_u = df_u.loc[df_u['FLAG_VENCEDOR'] != 'SIM']"
   ]
  },
  {
   "cell_type": "code",
   "execution_count": null,
   "id": "41e744d7",
   "metadata": {
    "scrolled": false
   },
   "outputs": [],
   "source": [
    "print (df_u.shape)\n",
    "print (df_u.columns)"
   ]
  },
  {
   "cell_type": "markdown",
   "id": "910c8549",
   "metadata": {},
   "source": [
    "### Seleção de atributos, transformações e limpezas"
   ]
  },
  {
   "cell_type": "code",
   "execution_count": null,
   "id": "7f5f222a",
   "metadata": {
    "scrolled": false
   },
   "outputs": [],
   "source": [
    "#Descrição = Descrição Item\n",
    "del df_u['DESCRICAO']\n",
    "#Muitos valores vazios\n",
    "del df_u['DATA_ABERTURA']\n",
    "#Muitos valores únicos\n",
    "del df_u['OBJETO']\n",
    "del df_u['NUMERO_PROCESSO']\n",
    "#Nome Órgão Superior tem baixa variabilidade, além disso, mais importante a identificação mais granular (Nome UG)\n",
    "del df_u['NOME_ORGAO_SUPERIOR']\n",
    "del df_u['NOME_ORGAO']\n",
    "#Nome do vencedor já é um campo, pra que indicar se ele venceu?\n",
    "del df_u['FLAG_VENCEDOR']\n",
    "#Mais relevante será considerar o valor individual do item\n",
    "del df_u['VALOR_LICITACAO']"
   ]
  },
  {
   "cell_type": "code",
   "execution_count": null,
   "id": "27c0bf22",
   "metadata": {},
   "outputs": [],
   "source": [
    "df_u['RESULTADO_COMPRA_MES'] = df_u['DATA_RESULTADO_COMPRA'].apply(lambda x : x[3:5])\n",
    "df_u['RESULTADO_COMPRA_ANO'] = df_u['DATA_RESULTADO_COMPRA'].apply(lambda x : x[6:10])\n",
    "del df_u['DATA_RESULTADO_COMPRA']"
   ]
  },
  {
   "cell_type": "code",
   "execution_count": null,
   "id": "9e3b27f9",
   "metadata": {},
   "outputs": [],
   "source": [
    "df_u['MUNICIPIO'] = df_u['MUNICIPIO'] + \"-\" + df_u['UF']\n",
    "del df_u['MUNICIPIO']"
   ]
  },
  {
   "cell_type": "code",
   "execution_count": null,
   "id": "91b5df1a",
   "metadata": {
    "scrolled": true
   },
   "outputs": [],
   "source": [
    "df_u['VALOR_ITEM'] = df_u['VALOR_ITEM'].apply(lambda x: x.replace(',', '.')).astype(float)\n",
    "#Se existir casos de quantidade de item = 0, remove\n",
    "df_u = df_u.loc[df_u['QUANTIDADE_ITEM'] > 0]\n",
    "df_u['VALOR_ITEM_UNIT'] = df_u['VALOR_ITEM']/df_u['QUANTIDADE_ITEM']\n",
    "# Retira coluna quantidade e valor de item porque determinam valor licitação\n",
    "del df_u['QUANTIDADE_ITEM']\n",
    "del df_u['VALOR_ITEM']"
   ]
  },
  {
   "cell_type": "code",
   "execution_count": null,
   "id": "d6e78234",
   "metadata": {},
   "outputs": [],
   "source": [
    "n = gc.collect()\n",
    "print(\"Número de objetos coletados pela função GC:\", n)\n",
    "print(\"Objetos restantes:\", gc.garbage)"
   ]
  },
  {
   "cell_type": "code",
   "execution_count": null,
   "id": "d258449a",
   "metadata": {},
   "outputs": [],
   "source": [
    "df_u['DESCRICAO_ITEM_COMPRA'] = df_u[['DESCRICAO_ITEM_COMPRA']].apply(lambda x: x.str.normalize('NFKD').str.encode('ascii', errors='ignore').str.decode('utf-8'))"
   ]
  },
  {
   "cell_type": "code",
   "execution_count": null,
   "id": "d9a7e31a",
   "metadata": {},
   "outputs": [],
   "source": [
    "n = gc.collect()\n",
    "print(\"Número de objetos coletados pela função GC:\", n)\n",
    "print(\"Objetos restantes:\", gc.garbage)"
   ]
  },
  {
   "cell_type": "code",
   "execution_count": null,
   "id": "3e241956",
   "metadata": {},
   "outputs": [],
   "source": [
    "df_u['NOME_PARTICIPANTE'] = df_u[['NOME_PARTICIPANTE']].apply(lambda x: x.str.normalize('NFKD').str.encode('ascii', errors='ignore').str.decode('utf-8'))"
   ]
  },
  {
   "cell_type": "code",
   "execution_count": null,
   "id": "94588b20",
   "metadata": {},
   "outputs": [],
   "source": [
    "n = gc.collect()\n",
    "print(\"Número de objetos coletados pela função GC:\", n)\n",
    "print(\"Objetos restantes:\", gc.garbage)"
   ]
  },
  {
   "cell_type": "code",
   "execution_count": null,
   "id": "c5a8d113",
   "metadata": {},
   "outputs": [],
   "source": [
    "df_u['NOME_VENCEDOR'] = df_u[['NOME_VENCEDOR']].apply(lambda x: x.str.normalize('NFKD').str.encode('ascii', errors='ignore').str.decode('utf-8'))"
   ]
  },
  {
   "cell_type": "code",
   "execution_count": null,
   "id": "9554eea7",
   "metadata": {},
   "outputs": [],
   "source": [
    "df_u = df_u.drop_duplicates()"
   ]
  },
  {
   "cell_type": "code",
   "execution_count": null,
   "id": "4df829a5",
   "metadata": {},
   "outputs": [],
   "source": [
    "print (df_u.shape)\n",
    "print (df_u.columns)"
   ]
  },
  {
   "cell_type": "code",
   "execution_count": null,
   "id": "184b1d46",
   "metadata": {},
   "outputs": [],
   "source": [
    "#backup\n",
    "df_u.to_csv('C:\\\\Users\\\\lucas\\\\Downloads\\\\Cefet-RJ\\\\licitacoes_tratadas_bkp.csv', sep=';', index=False)"
   ]
  },
  {
   "cell_type": "code",
   "execution_count": null,
   "id": "85b3407c",
   "metadata": {},
   "outputs": [],
   "source": [
    "#Carregar dados, quando os passos anteriores já tiverem sido executados\n",
    "df_u = pd.read_csv('C:\\\\Users\\\\lucas\\\\Downloads\\\\Cefet-RJ\\\\licitacoes_tratadas_bkp.csv', sep=';', encoding='utf-8', low_memory=True)\n",
    "df_u['RESULTADO_COMPRA_ANO'] = df_u['RESULTADO_COMPRA_ANO'].astype(str)"
   ]
  },
  {
   "cell_type": "markdown",
   "id": "4cbfe82f",
   "metadata": {},
   "source": [
    "### Acrescenta informações sobre conluio dados de conluios"
   ]
  },
  {
   "cell_type": "code",
   "execution_count": null,
   "id": "88d9c46d",
   "metadata": {},
   "outputs": [],
   "source": [
    "#Acrescenta classificação de conluio \n",
    "for index, row in df_cc.iterrows():\n",
    "    df_u.loc[(df_u['NOME_PARTICIPANTE'] == row['NOME_PARTICIPANTE']) & (df_u['RESULTADO_COMPRA_ANO'].isin(str(row['PERIODO']).split(', '))), 'PARTICIPA_CONLUIO_PERIODO'] = 'SIM'"
   ]
  },
  {
   "cell_type": "code",
   "execution_count": null,
   "id": "08b4d068",
   "metadata": {},
   "outputs": [],
   "source": [
    "df_u_count = df_u.loc[df_u['PARTICIPA_CONLUIO_PERIODO'] == 'SIM']"
   ]
  },
  {
   "cell_type": "code",
   "execution_count": null,
   "id": "87ec494b",
   "metadata": {},
   "outputs": [],
   "source": [
    "df_u_count = df_u_count[['NUMERO_LICITACAO', 'NOME_PARTICIPANTE']].drop_duplicates()"
   ]
  },
  {
   "cell_type": "code",
   "execution_count": null,
   "id": "cae903c3",
   "metadata": {},
   "outputs": [],
   "source": [
    "df_u_count['QTD_PARTICIPANTES_CONLUIO'] = df_u_count.groupby(by=['NUMERO_LICITACAO'])['NOME_PARTICIPANTE'].transform('count')"
   ]
  },
  {
   "cell_type": "code",
   "execution_count": null,
   "id": "96610592",
   "metadata": {},
   "outputs": [],
   "source": [
    "df_u_count.head()"
   ]
  },
  {
   "cell_type": "code",
   "execution_count": null,
   "id": "17ee0a50",
   "metadata": {},
   "outputs": [],
   "source": [
    "df_u = df_u.merge(df_u_count, how='left')"
   ]
  },
  {
   "cell_type": "code",
   "execution_count": null,
   "id": "514d78ca",
   "metadata": {},
   "outputs": [],
   "source": [
    "df_u.loc[df_u['PARTICIPA_CONLUIO_PERIODO'] == 'SIM'].head()"
   ]
  },
  {
   "cell_type": "code",
   "execution_count": null,
   "id": "66e338f9",
   "metadata": {},
   "outputs": [],
   "source": [
    "df_u.loc[(df_u['QTD_PARTICIPANTES_CONLUIO']>1) & (df_u['PARTICIPA_CONLUIO_PERIODO'] == 'SIM'), 'LICITACAO_CONLUIO'] = 'SIM'"
   ]
  },
  {
   "cell_type": "code",
   "execution_count": null,
   "id": "5e219c00",
   "metadata": {},
   "outputs": [],
   "source": [
    "df_u.loc[df_u['LICITACAO_CONLUIO']== 'SIM'].head()"
   ]
  },
  {
   "cell_type": "code",
   "execution_count": null,
   "id": "45574906",
   "metadata": {},
   "outputs": [],
   "source": [
    "del(df_u_count)\n",
    "# Baixa variabilidade. Exclui após utilização para sumarização.\n",
    "df_u.drop(columns='NUMERO_LICITACAO', axis=1, inplace=True)"
   ]
  },
  {
   "cell_type": "code",
   "execution_count": null,
   "id": "32b318e8",
   "metadata": {},
   "outputs": [],
   "source": [
    "df_u.loc[df_u['LICITACAO_CONLUIO'].isna(), 'LICITACAO_CONLUIO'] = 'NAO'\n",
    "df_u.loc[df_u['PARTICIPA_CONLUIO_PERIODO'].isna(), 'PARTICIPA_CONLUIO_PERIODO'] = 'NAO'\n",
    "df_u.loc[df_u['QTD_PARTICIPANTES_CONLUIO'].isna(), 'QTD_PARTICIPANTES_CONLUIO'] = 0\n",
    "#Elimina atributos utilizados para calculo da classificao, para não enviesar a determinação\n",
    "df_u = df_u.drop(columns=['PARTICIPA_CONLUIO_PERIODO', 'QTD_PARTICIPANTES_CONLUIO'], axis=1)"
   ]
  },
  {
   "cell_type": "code",
   "execution_count": null,
   "id": "d654ed9b",
   "metadata": {},
   "outputs": [],
   "source": [
    "print (df_u.shape)\n",
    "print (df_u.columns)"
   ]
  },
  {
   "cell_type": "code",
   "execution_count": null,
   "id": "7e0bb1c5",
   "metadata": {},
   "outputs": [],
   "source": [
    "print (df_u.loc[df_u['LICITACAO_CONLUIO']== 'SIM'].shape)\n",
    "print (df_u.loc[df_u['LICITACAO_CONLUIO']== 'NAO'].shape)"
   ]
  },
  {
   "cell_type": "markdown",
   "id": "759db1f0",
   "metadata": {},
   "source": [
    "## Enriquecimento do conjunto de dados"
   ]
  },
  {
   "cell_type": "markdown",
   "id": "9825283f",
   "metadata": {},
   "source": [
    "### Acrescenta variáveis estatística"
   ]
  },
  {
   "cell_type": "code",
   "execution_count": null,
   "id": "35f01e1f",
   "metadata": {},
   "outputs": [],
   "source": [
    "import statistics as stat\n",
    "import scipy.stats as stats"
   ]
  },
  {
   "cell_type": "code",
   "execution_count": null,
   "id": "e74b326a",
   "metadata": {},
   "outputs": [],
   "source": [
    "#Calcular estatisticas do valor unitario do item\n",
    "df_u['MEDIA_ITEM'] = df_u.groupby('DESCRICAO_ITEM_COMPRA')['VALOR_ITEM_UNIT'].transform('mean')\n",
    "#df_u['DESVIO_PADRAO_ITEM'] = df_u.groupby(['DESCRICAO_ITEM_COMPRA'])['VALOR_ITEM_UNIT'].transform(lambda x: stat.stdev(x) if len(x) > 1 else 0)\n",
    "df_u['COEFICIENTE_VARIACAO_ITEM'] = df_u.groupby(['DESCRICAO_ITEM_COMPRA'])['VALOR_ITEM_UNIT'].transform(lambda x: stat.stdev(x)/x.mean() if len(x) > 1 else 0)\n",
    "df_u['CURTOSE_ITEM'] = df_u.groupby(['DESCRICAO_ITEM_COMPRA'])['VALOR_ITEM_UNIT'].transform(lambda x: stats.kurtosis(x) if len(x) > 1 else 0)\n",
    "df_u['ASSIMETRIA'] = df_u.groupby(['DESCRICAO_ITEM_COMPRA'])['VALOR_ITEM_UNIT'].transform(lambda x: stats.skew(x) if len(x) > 1 else 0)\n",
    "df_u['3_QUARTIL_ITEM'] = df_u.groupby(['DESCRICAO_ITEM_COMPRA'])['VALOR_ITEM_UNIT'].transform(lambda x: x.quantile(0.75) if len(x) > 1 else 0)\n",
    "df_u['OUTLIER'] = df_u.apply(lambda x: 'SIM' if x['VALOR_ITEM_UNIT'] > x['3_QUARTIL_ITEM'] else 'NAO', axis=1)"
   ]
  },
  {
   "cell_type": "code",
   "execution_count": null,
   "id": "4dc9947a",
   "metadata": {},
   "outputs": [],
   "source": [
    "#Exclui atributos utilizados para calcular outros\n",
    "df_u = df_u.drop(columns=['MEDIA_ITEM', '3_QUARTIL_ITEM', 'VALOR_ITEM_UNIT'], axis=1)#, 'DESVIO_PADRAO_ITEM'"
   ]
  },
  {
   "cell_type": "code",
   "execution_count": null,
   "id": "0b280609",
   "metadata": {},
   "outputs": [],
   "source": [
    "df_u.head()"
   ]
  },
  {
   "cell_type": "code",
   "execution_count": null,
   "id": "36c2e4cc",
   "metadata": {},
   "outputs": [],
   "source": [
    "n = gc.collect()\n",
    "print(\"Número de objetos coletados pela função GC:\", n)\n",
    "print(\"Objetos restantes:\", gc.garbage)"
   ]
  },
  {
   "cell_type": "code",
   "execution_count": null,
   "id": "314fd999",
   "metadata": {
    "scrolled": true
   },
   "outputs": [],
   "source": [
    "df_u.to_csv('C:\\\\Users\\\\lucas\\\\Downloads\\\\Cefet-RJ\\\\licitacoes_conluios_tratadas.csv', sep=';', index=False)"
   ]
  },
  {
   "cell_type": "code",
   "execution_count": 5,
   "id": "f9608fbb",
   "metadata": {},
   "outputs": [],
   "source": [
    "#Carregar dados, quando os passos anteriores já tiverem sido executados\n",
    "df_u = pd.read_csv('C:\\\\Users\\\\lucas\\\\Downloads\\\\Cefet-RJ\\\\licitacoes_conluios_tratadas.csv', sep=';', encoding='utf-8', low_memory=True)\n",
    "df_u['RESULTADO_COMPRA_ANO'] = df_u['RESULTADO_COMPRA_ANO'].astype(str)"
   ]
  },
  {
   "cell_type": "markdown",
   "id": "3dd06635",
   "metadata": {},
   "source": [
    "## Pré-processamento - parte 2"
   ]
  },
  {
   "cell_type": "code",
   "execution_count": 6,
   "id": "d16c519e",
   "metadata": {},
   "outputs": [],
   "source": [
    "from sklearn import metrics\n",
    "from sklearn.metrics import classification_report\n",
    "from sklearn.metrics import mean_squared_error\n",
    "from sklearn.metrics import matthews_corrcoef"
   ]
  },
  {
   "cell_type": "code",
   "execution_count": 7,
   "id": "2375da65",
   "metadata": {},
   "outputs": [],
   "source": [
    "def executar_modelo(name, estat, clf, X_train2, X_test2):\n",
    "    print(\"Classificação do modelo: Linear SVM\", name, \". Variáveis estatísticas: \",  estat)\n",
    "    clf.fit(X_train2, y_train)\n",
    "    print(\"Acurácia: {:.3f}\".format(clf.score(X_test2, y_test)))\n",
    "    y_pred = clf.predict(X_test2)\n",
    "    print(\"Acurácia: {:.3f}\".format(metrics.accuracy_score(y_test, y_pred)))\n",
    "\n",
    "    #Métricas gerais\n",
    "    mse = mean_squared_error(y_test, y_pred)\n",
    "    print('Mean Squared Error (MSE):', mse)\n",
    "    mcc = matthews_corrcoef(y_test, y_pred)\n",
    "    print('Matthews correlation coefficient (MCC):', mcc)\n",
    "    print(classification_report(y_pred, y_test))\n",
    "\n",
    "    return clf"
   ]
  },
  {
   "cell_type": "code",
   "execution_count": 8,
   "id": "84f894f3",
   "metadata": {},
   "outputs": [],
   "source": [
    "import matplotlib.pyplot as plt\n",
    "from sklearn.metrics import RocCurveDisplay\n",
    "def gera_curva_roc(name, clf_ce, clf_se):\n",
    "    _, ax = plt.subplots() \n",
    "    plt.plot([0, 1], [0, 1], 'k--', label='Classificador aleatório')\n",
    "    RocCurveDisplay.from_estimator(clf_ce, X_test, y_test, ax=ax, name=name+\" (COM var. estat.)\")\n",
    "    RocCurveDisplay.from_estimator(clf_se, X_test[:,0:5], y_test, ax=ax, name=name+\" (SEM var. estat.)\")\n",
    "    plt.xlim([0.0, 1.0])\n",
    "    plt.ylim([0.0, 1.05])\n",
    "    plt.xlabel('Taxa de Positivos Falsos')\n",
    "    plt.ylabel('Taxa de Positivos Verdadeiros')\n",
    "    plt.legend()\n",
    "    plt.show()"
   ]
  },
  {
   "cell_type": "code",
   "execution_count": 9,
   "id": "8f9ea6a1",
   "metadata": {},
   "outputs": [],
   "source": [
    "from sklearn.model_selection import KFold, cross_validate\n",
    "def executa_validacao_cruzada(clf, X, y):\n",
    "    k_folds = KFold(n_splits = 10)\n",
    "    scoring = ['accuracy', 'precision', 'recall']\n",
    "    scores = cross_validate(clf, X, y, cv = k_folds, scoring = scoring)\n",
    "    print(\"Cross Validation Scores - Média\")\n",
    "    print(\"Acurácia: \", scores['test_accuracy'].mean())\n",
    "    print(\"Precisão: \", scores['test_precision'].mean())\n",
    "    print(\"Recall: \", scores['test_recall'].mean())"
   ]
  },
  {
   "cell_type": "code",
   "execution_count": 10,
   "id": "67173653",
   "metadata": {},
   "outputs": [
    {
     "name": "stderr",
     "output_type": "stream",
     "text": [
      "Using `tqdm.autonotebook.tqdm` in notebook mode. Use `tqdm.tqdm` instead to force console mode (e.g. in jupyter console)\n"
     ]
    }
   ],
   "source": [
    "import shap\n",
    "def explicar_modelo_shap (name, clf):\n",
    "    print('Explicação do modelo com SHAP')\n",
    "    shap.initjs()\n",
    "    X_train_summary = shap.kmeans(X_train, 3)\n",
    "    explainer = shap.KernelExplainer(clf.predict, X_train_summary)   \n",
    "    #shap_values = explainer.shap_values(X_test)\n",
    "    shap_values = explainer.shap_values(X_test, nsamples=1000)\n",
    "    figure = plt.figure()\n",
    "    shap.summary_plot(shap_values, X_test)"
   ]
  },
  {
   "cell_type": "code",
   "execution_count": 11,
   "id": "a3855c44",
   "metadata": {},
   "outputs": [],
   "source": [
    "from lime.lime_tabular import LimeTabularExplainer\n",
    "def explicar_modelo_lime (clf, i):\n",
    "    print('Explicação do modelo com LIME')\n",
    "    explainer = LimeTabularExplainer(X_train, feature_names=X_columns, class_names=['Flag Vencedor'], verbose=True, mode='regression')\n",
    "    exp = explainer.explain_instance(X_test[i], model.predict, num_features=5)\n",
    "    print('Instância:', i)\n",
    "    print('Predição:', y_pred[i])\n",
    "    exp.show_in_notebook(show_table=True)"
   ]
  },
  {
   "cell_type": "markdown",
   "id": "4adedd17",
   "metadata": {},
   "source": [
    "### Codificação e balanceamento"
   ]
  },
  {
   "cell_type": "code",
   "execution_count": 12,
   "id": "dc6117f7",
   "metadata": {},
   "outputs": [],
   "source": [
    "df_u_scaled = escalar_df(df_u)"
   ]
  },
  {
   "cell_type": "code",
   "execution_count": 13,
   "id": "247e213b",
   "metadata": {},
   "outputs": [],
   "source": [
    "df_u_scaled = df_u_scaled.reindex(columns=[\"NOME_UG\", \"NOME_PARTICIPANTE\", \"NOME_VENCEDOR\", \"MODALIDADE_COMPRA\", \"DESCRICAO_ITEM_COMPRA\", \"SITUACAO_LICITACAO\", \"UF\", \"RESULTADO_COMPRA_MES\", \"RESULTADO_COMPRA_ANO\", \"LICITACAO_CONLUIO\", \"QTD_PARTICIPANTES_ITEM\", \"OUTLIER\", \"COEFICIENTE_VARIACAO_ITEM\", \"CURTOSE_ITEM\", \"ASSIMETRIA\"])"
   ]
  },
  {
   "cell_type": "code",
   "execution_count": 14,
   "id": "3ed4deac",
   "metadata": {},
   "outputs": [
    {
     "data": {
      "text/html": [
       "<div>\n",
       "<style scoped>\n",
       "    .dataframe tbody tr th:only-of-type {\n",
       "        vertical-align: middle;\n",
       "    }\n",
       "\n",
       "    .dataframe tbody tr th {\n",
       "        vertical-align: top;\n",
       "    }\n",
       "\n",
       "    .dataframe thead th {\n",
       "        text-align: right;\n",
       "    }\n",
       "</style>\n",
       "<table border=\"1\" class=\"dataframe\">\n",
       "  <thead>\n",
       "    <tr style=\"text-align: right;\">\n",
       "      <th></th>\n",
       "      <th>NOME_UG</th>\n",
       "      <th>NOME_PARTICIPANTE</th>\n",
       "      <th>NOME_VENCEDOR</th>\n",
       "      <th>MODALIDADE_COMPRA</th>\n",
       "      <th>DESCRICAO_ITEM_COMPRA</th>\n",
       "      <th>SITUACAO_LICITACAO</th>\n",
       "      <th>UF</th>\n",
       "      <th>RESULTADO_COMPRA_MES</th>\n",
       "      <th>RESULTADO_COMPRA_ANO</th>\n",
       "      <th>LICITACAO_CONLUIO</th>\n",
       "    </tr>\n",
       "  </thead>\n",
       "  <tbody>\n",
       "    <tr>\n",
       "      <th>0</th>\n",
       "      <td>0.136912</td>\n",
       "      <td>0.836786</td>\n",
       "      <td>0.256697</td>\n",
       "      <td>1.0</td>\n",
       "      <td>0.268126</td>\n",
       "      <td>1.0</td>\n",
       "      <td>0.703704</td>\n",
       "      <td>0.0</td>\n",
       "      <td>0.0</td>\n",
       "      <td>0.0</td>\n",
       "    </tr>\n",
       "    <tr>\n",
       "      <th>1</th>\n",
       "      <td>0.136912</td>\n",
       "      <td>0.019252</td>\n",
       "      <td>0.256697</td>\n",
       "      <td>1.0</td>\n",
       "      <td>0.268126</td>\n",
       "      <td>1.0</td>\n",
       "      <td>0.703704</td>\n",
       "      <td>0.0</td>\n",
       "      <td>0.0</td>\n",
       "      <td>0.0</td>\n",
       "    </tr>\n",
       "    <tr>\n",
       "      <th>2</th>\n",
       "      <td>0.136912</td>\n",
       "      <td>0.093112</td>\n",
       "      <td>0.256697</td>\n",
       "      <td>1.0</td>\n",
       "      <td>0.268126</td>\n",
       "      <td>1.0</td>\n",
       "      <td>0.703704</td>\n",
       "      <td>0.0</td>\n",
       "      <td>0.0</td>\n",
       "      <td>0.0</td>\n",
       "    </tr>\n",
       "    <tr>\n",
       "      <th>3</th>\n",
       "      <td>0.136912</td>\n",
       "      <td>0.392152</td>\n",
       "      <td>0.256697</td>\n",
       "      <td>1.0</td>\n",
       "      <td>0.268126</td>\n",
       "      <td>1.0</td>\n",
       "      <td>0.703704</td>\n",
       "      <td>0.0</td>\n",
       "      <td>0.0</td>\n",
       "      <td>0.0</td>\n",
       "    </tr>\n",
       "    <tr>\n",
       "      <th>4</th>\n",
       "      <td>0.136912</td>\n",
       "      <td>0.811847</td>\n",
       "      <td>0.256697</td>\n",
       "      <td>1.0</td>\n",
       "      <td>0.268126</td>\n",
       "      <td>1.0</td>\n",
       "      <td>0.703704</td>\n",
       "      <td>0.0</td>\n",
       "      <td>0.0</td>\n",
       "      <td>0.0</td>\n",
       "    </tr>\n",
       "  </tbody>\n",
       "</table>\n",
       "</div>"
      ],
      "text/plain": [
       "    NOME_UG  NOME_PARTICIPANTE  NOME_VENCEDOR  MODALIDADE_COMPRA  \\\n",
       "0  0.136912           0.836786       0.256697                1.0   \n",
       "1  0.136912           0.019252       0.256697                1.0   \n",
       "2  0.136912           0.093112       0.256697                1.0   \n",
       "3  0.136912           0.392152       0.256697                1.0   \n",
       "4  0.136912           0.811847       0.256697                1.0   \n",
       "\n",
       "   DESCRICAO_ITEM_COMPRA  SITUACAO_LICITACAO        UF  RESULTADO_COMPRA_MES  \\\n",
       "0               0.268126                 1.0  0.703704                   0.0   \n",
       "1               0.268126                 1.0  0.703704                   0.0   \n",
       "2               0.268126                 1.0  0.703704                   0.0   \n",
       "3               0.268126                 1.0  0.703704                   0.0   \n",
       "4               0.268126                 1.0  0.703704                   0.0   \n",
       "\n",
       "   RESULTADO_COMPRA_ANO  LICITACAO_CONLUIO  \n",
       "0                   0.0                0.0  \n",
       "1                   0.0                0.0  \n",
       "2                   0.0                0.0  \n",
       "3                   0.0                0.0  \n",
       "4                   0.0                0.0  "
      ]
     },
     "execution_count": 14,
     "metadata": {},
     "output_type": "execute_result"
    }
   ],
   "source": [
    "df_u_scaled.iloc[:,0:10].head()"
   ]
  },
  {
   "cell_type": "code",
   "execution_count": 15,
   "id": "f0ed3e3a",
   "metadata": {},
   "outputs": [],
   "source": [
    "df_u_scaledX = df_u_scaled.drop(columns=['LICITACAO_CONLUIO'], axis=1)\n",
    "df_u_scaledY = df_u_scaled['LICITACAO_CONLUIO']"
   ]
  },
  {
   "cell_type": "code",
   "execution_count": 16,
   "id": "126627f2",
   "metadata": {},
   "outputs": [],
   "source": [
    "X = df_u_scaledX.values\n",
    "X_columns = df_u_scaledX.columns\n",
    "y = df_u_scaledY.values\n",
    "y_columns = ['LICITACAO_CONLUIO']"
   ]
  },
  {
   "cell_type": "code",
   "execution_count": 17,
   "id": "c6b6c89f",
   "metadata": {},
   "outputs": [
    {
     "data": {
      "text/plain": [
       "0"
      ]
     },
     "execution_count": 17,
     "metadata": {},
     "output_type": "execute_result"
    }
   ],
   "source": [
    "del df_u\n",
    "del df_u_scaled\n",
    "del df_u_scaledX\n",
    "del df_u_scaledY\n",
    "gc.collect()"
   ]
  },
  {
   "cell_type": "code",
   "execution_count": 18,
   "id": "2a3785b5",
   "metadata": {},
   "outputs": [
    {
     "name": "stdout",
     "output_type": "stream",
     "text": [
      "Balanceamento selecionado: smote - Quantidade 0: 33914703 - Quantidade 1: 33914703\n"
     ]
    }
   ],
   "source": [
    "#Definir a estratégia de balanceamento\n",
    "smode = 'smote'\n",
    "if (smode == 'under'):\n",
    "    from imblearn.under_sampling import RandomUnderSampler\n",
    "    samp = RandomUnderSampler(random_state=42, sampling_strategy = 'majority')\n",
    "elif (smode == 'over'):\n",
    "    from imblearn.over_sampling import RandomOverSampler\n",
    "    samp = RandomOverSampler(sampling_strategy='minority')\n",
    "elif (smode == 'smote'):\n",
    "    from imblearn.over_sampling import SMOTE\n",
    "    samp = SMOTE()\n",
    "elif (smode == 'smoteenn'):\n",
    "    from imblearn.combine import SMOTEENN\n",
    "    samp = SMOTEENN(random_state=42)  \n",
    "if (smode != 'na'):\n",
    "    X, y = samp.fit_resample(X, y)\n",
    "print (\"Balanceamento selecionado: \"+smode+\" - Quantidade 0: \"+str((y==0).sum())+\" - Quantidade 1: \"+str((y==1).sum()))"
   ]
  },
  {
   "cell_type": "code",
   "execution_count": null,
   "id": "afc14209",
   "metadata": {},
   "outputs": [
    {
     "name": "stdout",
     "output_type": "stream",
     "text": [
      "Quantidade de teste 0: 19164847 - Quantidade de teste 1: 6782941\n",
      "Balanceamento:  smote\n",
      "Classificação do modelo: Linear SVM Linear SVM . Variáveis estatísticas:  SIM\n"
     ]
    }
   ],
   "source": [
    "#Avalia métricas para balanceamento\n",
    "from sklearn.model_selection import train_test_split\n",
    "X_train, X_test, y_train, y_test = train_test_split(X, y, test_size=0.2, random_state=42, stratify=y)\n",
    "print (\"Quantidade de teste 0: \"+str((X_test==0).sum())+\" - Quantidade de teste 1: \"+str((y_test==1).sum()))\n",
    "from sklearn.svm import LinearSVC\n",
    "print (\"Balanceamento: \", smode)\n",
    "executar_modelo(\"Linear SVM\", \"SIM\", LinearSVC(), X_train, X_test)\n",
    "executar_modelo(\"Linear SVM\", \"NÃO\", LinearSVC(), X_train[:,0:5], X_test[:,0:5])"
   ]
  },
  {
   "cell_type": "markdown",
   "id": "3495a642",
   "metadata": {},
   "source": [
    "### Seleção de atributos"
   ]
  },
  {
   "cell_type": "code",
   "execution_count": null,
   "id": "25f8a89b",
   "metadata": {},
   "outputs": [],
   "source": [
    "from sklearn.feature_selection import SelectKBest, chi2, f_classif, mutual_info_classif, RFE\n",
    "from sklearn.tree import DecisionTreeClassifier"
   ]
  },
  {
   "cell_type": "code",
   "execution_count": null,
   "id": "9a264c00",
   "metadata": {},
   "outputs": [],
   "source": [
    "#Imprimi gráfico - Chi2\n",
    "fs = SelectKBest(score_func=chi2, k='all')\n",
    "fs.fit(X[:,0:9], y)\n",
    "plt.bar([i for i in range(len(fs.scores_))], fs.scores_)\n",
    "plt.show()"
   ]
  },
  {
   "cell_type": "code",
   "execution_count": null,
   "id": "3f4efa42",
   "metadata": {},
   "outputs": [],
   "source": [
    "#Imprimi gráfico - Seleção univariada\n",
    "fs = SelectKBest(score_func=f_classif, k=5)\n",
    "fs.fit(X[:,0:9], y)\n",
    "plt.bar([i for i in range(len(fs.scores_))], fs.scores_)\n",
    "plt.show()"
   ]
  },
  {
   "cell_type": "code",
   "execution_count": null,
   "id": "c52464d7",
   "metadata": {},
   "outputs": [],
   "source": [
    "#Imprimi gráfico - Mutual information\n",
    "fs = SelectKBest(score_func=mutual_info_classif, k=5)\n",
    "fs.fit(X[:,0:9], y)\n",
    "plt.bar([i for i in range(len(fs.scores_))], fs.scores_)\n",
    "plt.show()"
   ]
  },
  {
   "cell_type": "code",
   "execution_count": null,
   "id": "5aa09825",
   "metadata": {},
   "outputs": [],
   "source": [
    "#Imprimi ranking - RFE\n",
    "rfe = RFE(estimator=DecisionTreeClassifier(), n_features_to_select=5)\n",
    "rfe.fit(X[:,0:9], y)\n",
    "for i in range(X[:,0:9].shape[1]):\n",
    "    print('Column: %d, Selected %s, Rank: %.3f' % (i, rfe.support_[i], rfe.ranking_[i]))"
   ]
  },
  {
   "cell_type": "code",
   "execution_count": null,
   "id": "22d65c36",
   "metadata": {},
   "outputs": [],
   "source": [
    "#Imprimi gráfico - Feature importance\n",
    "#feature_names = [f\"{i}\" for i in range(X.shape[1])]\n",
    "#model = ExtraTreesClassifier()\n",
    "#model.fit(X[:,0:9], y)\n",
    "#std = np.std([tree.feature_importances_ for tree in model.estimators_], axis=0)\n",
    "#forest_importances = pd.Series(model.feature_importances_, index=feature_names)\n",
    "#forest_importances.plot.bar(yerr=std)"
   ]
  },
  {
   "cell_type": "code",
   "execution_count": null,
   "id": "5c15716b",
   "metadata": {},
   "outputs": [],
   "source": [
    "#Definir a estratégia de seleção de atributos\n",
    "smode = 'Chi2'\n",
    "X2 = X\n",
    "if (smode == 'Chi2'): #Chi2\n",
    "    selector = SelectKBest(chi2, k=5)\n",
    "    X2 = selector.fit_transform(X[:,0:9], y)\n",
    "elif (smode == 'SU'): #Seleção univariada\n",
    "    selector = SelectKBest(f_classif, k=5)\n",
    "    X2 = selector.fit_transform(X[:,0:9], y)\n",
    "elif (smode == 'MI'): #Mutual information\n",
    "    selector = SelectKBest(mutual_info_classif, k=5)\n",
    "    X2 = selector.fit_transform(X[:,0:9], y)    \n",
    "    mutual_info_classif\n",
    "elif (smode == 'RFE'): #Recursive Feature Elimination\n",
    "    selector = RFE(estimator=DecisionTreeClassifier(), n_features_to_select=5)\n",
    "    X2 = selector.fit_transform(X[:,0:9], y)\n",
    "elif (smode == 'PCA'): #PCA\n",
    "    from sklearn.decomposition import PCA\n",
    "    selector = PCA(n_components=5)\n",
    "    X2 = selector.fit_transform(X[:,0:9], y)\n",
    "#elif (smode == 'ETC'):#Feature importance com Extra Trees Classifier\n",
    "#    from sklearn.decomposition import PCA\n",
    "#    selector = ExtraTreesClassifier()\n",
    "#    model.fit(X[:,0:9], y)\n",
    "#    std = np.std([tree.feature_importances_ for tree in model.estimators_], axis=0)"
   ]
  },
  {
   "cell_type": "code",
   "execution_count": null,
   "id": "63162efe",
   "metadata": {},
   "outputs": [],
   "source": [
    "#Nome das colunas selecionadas\n",
    "X2_columns = X_columns[0:9]\n",
    "print(X2_columns[selector.get_support()])"
   ]
  },
  {
   "cell_type": "code",
   "execution_count": null,
   "id": "8299c3c2",
   "metadata": {},
   "outputs": [],
   "source": [
    "import numpy as np\n",
    "X = np.concatenate((X2, X[:,9:]), axis=1)"
   ]
  },
  {
   "cell_type": "code",
   "execution_count": null,
   "id": "3340fbbf",
   "metadata": {},
   "outputs": [],
   "source": [
    "del X2\n",
    "del X2_columns\n",
    "gc.collect()"
   ]
  },
  {
   "cell_type": "code",
   "execution_count": null,
   "id": "f3355655",
   "metadata": {},
   "outputs": [],
   "source": [
    "from sklearn.model_selection import train_test_split\n",
    "X_train, X_test, y_train, y_test = train_test_split(X, y, test_size=0.2, random_state=42, stratify=y)\n",
    "print (\"Quantidade de teste 0: \"+str((X_test==0).sum())+\" - Quantidade de teste 1: \"+str((y_test==1).sum()))"
   ]
  },
  {
   "cell_type": "code",
   "execution_count": null,
   "id": "30e73091",
   "metadata": {},
   "outputs": [],
   "source": [
    "#Avalia métricas feature selecion\n",
    "from sklearn.svm import LinearSVC\n",
    "print (\"Feature selecion: \", smode)\n",
    "executar_modelo(\"Linear SVM\", \"SIM\", LinearSVC(), X_train, X_test)\n",
    "executar_modelo(\"Linear SVM\", \"NÃO\", LinearSVC(), X_train[:,0:5], X_test[:,0:5])"
   ]
  },
  {
   "cell_type": "markdown",
   "id": "ea2574a8",
   "metadata": {},
   "source": [
    "## Aprendizado"
   ]
  },
  {
   "cell_type": "code",
   "execution_count": null,
   "id": "d4a161d2",
   "metadata": {},
   "outputs": [],
   "source": [
    "n = gc.collect()\n",
    "print(\"Número de objetos coletados pela função GC:\", n)\n",
    "print(\"Objetos restantes:\", gc.garbage)"
   ]
  },
  {
   "cell_type": "code",
   "execution_count": null,
   "id": "8cb7c92e",
   "metadata": {},
   "outputs": [],
   "source": [
    "from sklearn.tree import DecisionTreeClassifier\n",
    "clf_ce = executar_modelo(\"Árvore de decisão\", \"SIM\", DecisionTreeClassifier(max_depth=5), X_train, X_test)\n",
    "executa_validacao_cruzada(clf_ce, X, y)\n",
    "clf_se = executar_modelo(\"Árvore de decisão\", \"NÃO\", DecisionTreeClassifier(max_depth=5), X_train[:,0:5], X_test[:,0:5])\n",
    "executa_validacao_cruzada(clf_se, X[:,0:5], y)\n",
    "gera_curva_roc(\"Árvore de decisão\", clf_ce, clf_se)\n",
    "explicar_modelo_shap (\"Árvore de decisão\", clf_ce)"
   ]
  },
  {
   "cell_type": "code",
   "execution_count": null,
   "id": "b34c87b7",
   "metadata": {},
   "outputs": [],
   "source": [
    "from sklearn.linear_model import LogisticRegression\n",
    "clf_ce = executar_modelo(\"Regressão Logística\", \"SIM\", LogisticRegression(), X_train, X_test)\n",
    "executa_validacao_cruzada(clf_ce, X, y)\n",
    "clf_se = executar_modelo(\"Regressão Logística\", \"NÃO\", LogisticRegression(), X_train[:,0:5], X_test[:,0:5])\n",
    "executa_validacao_cruzada(clf_se, X[:,0:5], y)\n",
    "gera_curva_roc(\"Regressão Logística\", clf_ce, clf_se)\n",
    "explicar_modelo_shap (\"Regressão Logística\", clf_ce)"
   ]
  },
  {
   "cell_type": "code",
   "execution_count": null,
   "id": "c01dac76",
   "metadata": {},
   "outputs": [],
   "source": [
    "from sklearn.naive_bayes import GaussianNB\n",
    "clf_ce = executar_modelo(\"Naive Bayes\", \"SIM\", GaussianNB(), X_train, X_test)\n",
    "executa_validacao_cruzada(clf_ce, X, y)\n",
    "clf_se = executar_modelo(\"Naive Bayes\", \"NÃO\", GaussianNB(), X_train[:,0:5], X_test[:,0:5])\n",
    "executa_validacao_cruzada(clf_se, X[:,0:5], y)\n",
    "gera_curva_roc(\"Naive Bayes\", clf_ce, clf_se)\n",
    "explicar_modelo_shap (\"Naive Bayes\", clf_ce)"
   ]
  },
  {
   "cell_type": "code",
   "execution_count": null,
   "id": "6e656000",
   "metadata": {},
   "outputs": [],
   "source": [
    "from sklearn.svm import LinearSVC\n",
    "clf_ce = executar_modelo(\"Linear SVM\", \"SIM\", LinearSVC(), X_train, X_test)\n",
    "executa_validacao_cruzada(clf_ce, X, y)\n",
    "clf_se = executar_modelo(\"Linear SVM\", \"NÃO\", LinearSVC(), X_train[:,0:5], X_test[:,0:5])\n",
    "executa_validacao_cruzada(clf_se, X[:,0:5], y)\n",
    "gera_curva_roc(\"Linear SVM\", clf_ce, clf_se)\n",
    "explicar_modelo_shap (\"Linear SVM\", clf_ce)"
   ]
  },
  {
   "cell_type": "code",
   "execution_count": null,
   "id": "3b0d314b",
   "metadata": {},
   "outputs": [],
   "source": [
    "from sklearn.ensemble import RandomForestClassifier\n",
    "clf_ce = executar_modelo(\"Random Forest\", \"SIM\", RandomForestClassifier(max_depth=5, n_estimators=10, max_features=1), X_train, X_test)\n",
    "executa_validacao_cruzada(clf_ce, X, y)\n",
    "clf_se = executar_modelo(\"Random Forest\", \"NÃO\", RandomForestClassifier(max_depth=5, n_estimators=10, max_features=1), X_train[:,0:5], X_test[:,0:5])\n",
    "executa_validacao_cruzada(clf_se, X[:,0:5], y)\n",
    "gera_curva_roc(\"Random Forest\", clf_ce, clf_se)\n",
    "explicar_modelo_shap (\"Random Forest\", clf_ce)"
   ]
  },
  {
   "cell_type": "code",
   "execution_count": null,
   "id": "fcc910a5",
   "metadata": {},
   "outputs": [],
   "source": [
    "from sklearn.neural_network import MLPClassifier\n",
    "clf_ce = executar_modelo(\"MLP\", \"SIM\", MLPClassifier(), X_train, X_test)\n",
    "executa_validacao_cruzada(clf_ce, X, y)\n",
    "clf_se = executar_modelo(\"MLP\", \"NÃO\", MLPClassifier(), X_train[:,0:5], X_test[:,0:5])\n",
    "executa_validacao_cruzada(clf_se, X[:,0:5], y)\n",
    "gera_curva_roc(\"MLP\", clf_ce, clf_se)\n",
    "explicar_modelo_shap (\"Neural Net\", clf_ce)"
   ]
  },
  {
   "cell_type": "code",
   "execution_count": null,
   "id": "fede02c4",
   "metadata": {},
   "outputs": [],
   "source": [
    "from sklearn.ensemble import AdaBoostClassifier\n",
    "clf_ce = executar_modelo(\"AdaBoost\", \"SIM\", AdaBoostClassifier(), X_train, X_test)\n",
    "executa_validacao_cruzada(clf_ce, X, y)\n",
    "clf_se = executar_modelo(\"AdaBoost\", \"NÃO\", AdaBoostClassifier(), X_train[:,0:5], X_test[:,0:5])\n",
    "executa_validacao_cruzada(clf_se, X[:,0:5], y)\n",
    "gera_curva_roc(\"AdaBoost\", clf_ce, clf_se)\n",
    "explicar_modelo_shap (\"AdaBoost\", clf_ce)"
   ]
  },
  {
   "cell_type": "code",
   "execution_count": null,
   "id": "75b76dd4",
   "metadata": {},
   "outputs": [],
   "source": [
    "from sklearn.discriminant_analysis import QuadraticDiscriminantAnalysis\n",
    "clf_ce = executar_modelo(\"QDA\", \"SIM\", QuadraticDiscriminantAnalysis(), X_train, X_test)\n",
    "executa_validacao_cruzada(clf_ce, X, y)\n",
    "clf_se = executar_modelo(\"QDA\", \"NÃO\", QuadraticDiscriminantAnalysis(), X_train[:,0:5], X_test[:,0:5])\n",
    "executa_validacao_cruzada(clf_se, X[:,0:5], y)\n",
    "gera_curva_roc(\"QDA\", clf_ce, clf_se)\n",
    "explicar_modelo_shap (\"Quadratic Discriminant Analysis\", clf_ce)"
   ]
  },
  {
   "cell_type": "code",
   "execution_count": null,
   "id": "22f2ddda",
   "metadata": {},
   "outputs": [],
   "source": [
    "from sklearn.linear_model import RidgeClassifierCV\n",
    "clf_ce = executar_modelo(\"Ridge\", \"SIM\", RidgeClassifierCV(), X_train, X_test)\n",
    "executa_validacao_cruzada(clf_ce, X, y)\n",
    "clf_se = executar_modelo(\"Ridge\", \"NÃO\", RidgeClassifierCV(), X_train[:,0:5], X_test[:,0:5])\n",
    "executa_validacao_cruzada(clf_se, X[:,0:5], y)\n",
    "gera_curva_roc(\"Ridge\", clf_ce, clf_se)\n",
    "explicar_modelo_shap (\"Ridge\", clf_ce)"
   ]
  },
  {
   "cell_type": "code",
   "execution_count": null,
   "id": "6cb8b438",
   "metadata": {},
   "outputs": [],
   "source": [
    "from sklearn.neighbors import KNeighborsClassifier\n",
    "clf_ce = executar_modelo(\"K-NN\", \"SIM\", KNeighborsClassifier(n_neighbors=5, n_jobs=-1), X_train, X_test)\n",
    "executa_validacao_cruzada(clf_ce, X, y)\n",
    "clf_se = executar_modelo(\"K-NN\", \"NÃO\", KNeighborsClassifier(n_neighbors=5, n_jobs=-1), X_train[:,0:5], X_test[:,0:5])\n",
    "executa_validacao_cruzada(clf_se, X[:,0:5], y)\n",
    "gera_curva_roc(\"K-NN\", clf_ce, clf_se)\n",
    "explicar_modelo_shap (\"Nearest Neighbors\", clf_ce)"
   ]
  },
  {
   "cell_type": "code",
   "execution_count": null,
   "id": "b20c5dcb",
   "metadata": {},
   "outputs": [],
   "source": []
  }
 ],
 "metadata": {
  "kernelspec": {
   "display_name": "Python 3 (ipykernel)",
   "language": "python",
   "name": "python3"
  },
  "language_info": {
   "codemirror_mode": {
    "name": "ipython",
    "version": 3
   },
   "file_extension": ".py",
   "mimetype": "text/x-python",
   "name": "python",
   "nbconvert_exporter": "python",
   "pygments_lexer": "ipython3",
   "version": "3.9.12"
  }
 },
 "nbformat": 4,
 "nbformat_minor": 5
}
